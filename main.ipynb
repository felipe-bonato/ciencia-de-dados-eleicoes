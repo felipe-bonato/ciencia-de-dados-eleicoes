{
 "cells": [
  {
   "cell_type": "code",
   "execution_count": null,
   "metadata": {},
   "outputs": [],
   "source": [
    "# Fonte de dados: https://sig.tse.jus.br/ords/dwapr/seai/r/sig-eleicao-resultados/conjuntos-de-dados\n",
    "# Os dados foram exportados foram:\n",
    "#  - Métricas: Quantidade de votos válidos, Quantidade de votos nominais\n",
    "#  - Dimensões: UF, Município, Número do candidato\n",
    "#  - Tipo de Arquivo: CSV (en-US)"
   ]
  },
  {
   "cell_type": "code",
   "execution_count": null,
   "metadata": {},
   "outputs": [],
   "source": [
    "import pandas as pd"
   ]
  },
  {
   "cell_type": "code",
   "execution_count": null,
   "metadata": {},
   "outputs": [],
   "source": [
    "df_raw_first_round = pd.read_excel('data/raw-first-round.xlsx')\n",
    "df_raw_first_round.head()"
   ]
  }
 ],
 "metadata": {
  "kernelspec": {
   "display_name": "Python 3.10.5 64-bit ('3.10.5')",
   "language": "python",
   "name": "python3"
  },
  "language_info": {
   "name": "python",
   "version": "3.10.5"
  },
  "orig_nbformat": 4,
  "vscode": {
   "interpreter": {
    "hash": "a171596892920571d73bee0b16c0fc7a42e8e6c498e5f9fd25d129205a1823e7"
   }
  }
 },
 "nbformat": 4,
 "nbformat_minor": 2
}
