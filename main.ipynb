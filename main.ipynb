{
 "cells": [
  {
   "cell_type": "markdown",
   "metadata": {},
   "source": [
    "Fonte de dados: https://sig.tse.jus.br/ords/dwapr/seai/r/sig-eleicao-resultados/conjuntos-de-dados\n",
    "\n",
    "Os dados foram exportados foram:\n",
    " - Métricas: Quantidade de votos nominais\n",
    " - Dimensões: UF, Município, Número do candidato\n",
    " - Tipo de Arquivo: CSV (en-US)"
   ]
  },
  {
   "cell_type": "code",
   "execution_count": 291,
   "metadata": {},
   "outputs": [],
   "source": [
    "import pandas as pd\n",
    "import numpy as np\n",
    "from matplotlib import pyplot as plt"
   ]
  },
  {
   "cell_type": "code",
   "execution_count": 292,
   "metadata": {},
   "outputs": [
    {
     "name": "stdout",
     "output_type": "stream",
     "text": [
      "(63261, 5)\n",
      "sg_uf                object\n",
      "nm_municipio         object\n",
      "nr_candidato          int64\n",
      "qt_votos_nominais     int64\n",
      "dt_carga             object\n",
      "dtype: object\n"
     ]
    },
    {
     "data": {
      "text/html": [
       "<div>\n",
       "<style scoped>\n",
       "    .dataframe tbody tr th:only-of-type {\n",
       "        vertical-align: middle;\n",
       "    }\n",
       "\n",
       "    .dataframe tbody tr th {\n",
       "        vertical-align: top;\n",
       "    }\n",
       "\n",
       "    .dataframe thead th {\n",
       "        text-align: right;\n",
       "    }\n",
       "</style>\n",
       "<table border=\"1\" class=\"dataframe\">\n",
       "  <thead>\n",
       "    <tr style=\"text-align: right;\">\n",
       "      <th></th>\n",
       "      <th>sg_uf</th>\n",
       "      <th>nm_municipio</th>\n",
       "      <th>nr_candidato</th>\n",
       "      <th>qt_votos_nominais</th>\n",
       "      <th>dt_carga</th>\n",
       "    </tr>\n",
       "  </thead>\n",
       "  <tbody>\n",
       "    <tr>\n",
       "      <th>48730</th>\n",
       "      <td>SC</td>\n",
       "      <td>ARARANGUÁ</td>\n",
       "      <td>12</td>\n",
       "      <td>1009</td>\n",
       "      <td>2022-11-25 18:45:37</td>\n",
       "    </tr>\n",
       "    <tr>\n",
       "      <th>48731</th>\n",
       "      <td>SC</td>\n",
       "      <td>ARARANGUÁ</td>\n",
       "      <td>13</td>\n",
       "      <td>11852</td>\n",
       "      <td>2022-11-25 18:45:37</td>\n",
       "    </tr>\n",
       "    <tr>\n",
       "      <th>48732</th>\n",
       "      <td>SC</td>\n",
       "      <td>ARARANGUÁ</td>\n",
       "      <td>14</td>\n",
       "      <td>37</td>\n",
       "      <td>2022-11-25 18:45:37</td>\n",
       "    </tr>\n",
       "    <tr>\n",
       "      <th>48733</th>\n",
       "      <td>SC</td>\n",
       "      <td>ARARANGUÁ</td>\n",
       "      <td>15</td>\n",
       "      <td>1516</td>\n",
       "      <td>2022-11-25 18:45:37</td>\n",
       "    </tr>\n",
       "    <tr>\n",
       "      <th>48734</th>\n",
       "      <td>SC</td>\n",
       "      <td>ARARANGUÁ</td>\n",
       "      <td>16</td>\n",
       "      <td>11</td>\n",
       "      <td>2022-11-25 18:45:37</td>\n",
       "    </tr>\n",
       "    <tr>\n",
       "      <th>48735</th>\n",
       "      <td>SC</td>\n",
       "      <td>ARARANGUÁ</td>\n",
       "      <td>21</td>\n",
       "      <td>15</td>\n",
       "      <td>2022-11-25 18:45:37</td>\n",
       "    </tr>\n",
       "    <tr>\n",
       "      <th>48736</th>\n",
       "      <td>SC</td>\n",
       "      <td>ARARANGUÁ</td>\n",
       "      <td>22</td>\n",
       "      <td>25630</td>\n",
       "      <td>2022-11-25 18:45:37</td>\n",
       "    </tr>\n",
       "    <tr>\n",
       "      <th>48737</th>\n",
       "      <td>SC</td>\n",
       "      <td>ARARANGUÁ</td>\n",
       "      <td>27</td>\n",
       "      <td>4</td>\n",
       "      <td>2022-11-25 18:45:37</td>\n",
       "    </tr>\n",
       "    <tr>\n",
       "      <th>48738</th>\n",
       "      <td>SC</td>\n",
       "      <td>ARARANGUÁ</td>\n",
       "      <td>30</td>\n",
       "      <td>345</td>\n",
       "      <td>2022-11-25 18:45:37</td>\n",
       "    </tr>\n",
       "    <tr>\n",
       "      <th>48739</th>\n",
       "      <td>SC</td>\n",
       "      <td>ARARANGUÁ</td>\n",
       "      <td>44</td>\n",
       "      <td>110</td>\n",
       "      <td>2022-11-25 18:45:37</td>\n",
       "    </tr>\n",
       "    <tr>\n",
       "      <th>48740</th>\n",
       "      <td>SC</td>\n",
       "      <td>ARARANGUÁ</td>\n",
       "      <td>80</td>\n",
       "      <td>7</td>\n",
       "      <td>2022-11-25 18:45:37</td>\n",
       "    </tr>\n",
       "  </tbody>\n",
       "</table>\n",
       "</div>"
      ],
      "text/plain": [
       "      sg_uf nm_municipio  nr_candidato  qt_votos_nominais             dt_carga\n",
       "48730    SC    ARARANGUÁ            12               1009  2022-11-25 18:45:37\n",
       "48731    SC    ARARANGUÁ            13              11852  2022-11-25 18:45:37\n",
       "48732    SC    ARARANGUÁ            14                 37  2022-11-25 18:45:37\n",
       "48733    SC    ARARANGUÁ            15               1516  2022-11-25 18:45:37\n",
       "48734    SC    ARARANGUÁ            16                 11  2022-11-25 18:45:37\n",
       "48735    SC    ARARANGUÁ            21                 15  2022-11-25 18:45:37\n",
       "48736    SC    ARARANGUÁ            22              25630  2022-11-25 18:45:37\n",
       "48737    SC    ARARANGUÁ            27                  4  2022-11-25 18:45:37\n",
       "48738    SC    ARARANGUÁ            30                345  2022-11-25 18:45:37\n",
       "48739    SC    ARARANGUÁ            44                110  2022-11-25 18:45:37\n",
       "48740    SC    ARARANGUÁ            80                  7  2022-11-25 18:45:37"
      ]
     },
     "metadata": {},
     "output_type": "display_data"
    }
   ],
   "source": [
    "# Dados primeiro turno\n",
    "df_raw_first_round = pd.read_csv('data/raw-first-round.csv')\n",
    "print(df_raw_first_round.shape)\n",
    "print(df_raw_first_round.dtypes)\n",
    "display(df_raw_first_round[df_raw_first_round['nm_municipio'] == 'ARARANGUÁ'])"
   ]
  },
  {
   "cell_type": "code",
   "execution_count": 293,
   "metadata": {},
   "outputs": [
    {
     "name": "stdout",
     "output_type": "stream",
     "text": [
      "(11502, 5)\n",
      "sg_uf                object\n",
      "nm_municipio         object\n",
      "nr_candidato          int64\n",
      "qt_votos_nominais     int64\n",
      "dt_carga             object\n",
      "dtype: object\n"
     ]
    },
    {
     "data": {
      "text/html": [
       "<div>\n",
       "<style scoped>\n",
       "    .dataframe tbody tr th:only-of-type {\n",
       "        vertical-align: middle;\n",
       "    }\n",
       "\n",
       "    .dataframe tbody tr th {\n",
       "        vertical-align: top;\n",
       "    }\n",
       "\n",
       "    .dataframe thead th {\n",
       "        text-align: right;\n",
       "    }\n",
       "</style>\n",
       "<table border=\"1\" class=\"dataframe\">\n",
       "  <thead>\n",
       "    <tr style=\"text-align: right;\">\n",
       "      <th></th>\n",
       "      <th>sg_uf</th>\n",
       "      <th>nm_municipio</th>\n",
       "      <th>nr_candidato</th>\n",
       "      <th>qt_votos_nominais</th>\n",
       "      <th>dt_carga</th>\n",
       "    </tr>\n",
       "  </thead>\n",
       "  <tbody>\n",
       "    <tr>\n",
       "      <th>8860</th>\n",
       "      <td>SC</td>\n",
       "      <td>ARARANGUÁ</td>\n",
       "      <td>13</td>\n",
       "      <td>12522</td>\n",
       "      <td>2022-11-25 18:45:37</td>\n",
       "    </tr>\n",
       "    <tr>\n",
       "      <th>8861</th>\n",
       "      <td>SC</td>\n",
       "      <td>ARARANGUÁ</td>\n",
       "      <td>22</td>\n",
       "      <td>28631</td>\n",
       "      <td>2022-11-25 18:45:37</td>\n",
       "    </tr>\n",
       "  </tbody>\n",
       "</table>\n",
       "</div>"
      ],
      "text/plain": [
       "     sg_uf nm_municipio  nr_candidato  qt_votos_nominais             dt_carga\n",
       "8860    SC    ARARANGUÁ            13              12522  2022-11-25 18:45:37\n",
       "8861    SC    ARARANGUÁ            22              28631  2022-11-25 18:45:37"
      ]
     },
     "metadata": {},
     "output_type": "display_data"
    }
   ],
   "source": [
    "# Dados segundo turno\n",
    "df_raw_second_round = pd.read_csv('data/raw-second-round.csv')\n",
    "print(df_raw_second_round.shape)\n",
    "print(df_raw_second_round.dtypes)\n",
    "display(df_raw_second_round[df_raw_second_round['nm_municipio'] == 'ARARANGUÁ'])"
   ]
  },
  {
   "cell_type": "code",
   "execution_count": 294,
   "metadata": {},
   "outputs": [
    {
     "name": "stdout",
     "output_type": "stream",
     "text": [
      "(5751, 6)\n",
      "sg_uf                         object\n",
      "nm_municipio                  object\n",
      "qt_votos_13_primeiro_turno     int64\n",
      "qt_votos_22_primeiro_turno     int64\n",
      "qt_votos_13_segundo_turno      int64\n",
      "qt_votos_22_segundo_turno      int64\n",
      "dtype: object\n"
     ]
    },
    {
     "data": {
      "text/html": [
       "<div>\n",
       "<style scoped>\n",
       "    .dataframe tbody tr th:only-of-type {\n",
       "        vertical-align: middle;\n",
       "    }\n",
       "\n",
       "    .dataframe tbody tr th {\n",
       "        vertical-align: top;\n",
       "    }\n",
       "\n",
       "    .dataframe thead th {\n",
       "        text-align: right;\n",
       "    }\n",
       "</style>\n",
       "<table border=\"1\" class=\"dataframe\">\n",
       "  <thead>\n",
       "    <tr style=\"text-align: right;\">\n",
       "      <th></th>\n",
       "      <th>sg_uf</th>\n",
       "      <th>nm_municipio</th>\n",
       "      <th>qt_votos_13_primeiro_turno</th>\n",
       "      <th>qt_votos_22_primeiro_turno</th>\n",
       "      <th>qt_votos_13_segundo_turno</th>\n",
       "      <th>qt_votos_22_segundo_turno</th>\n",
       "    </tr>\n",
       "  </thead>\n",
       "  <tbody>\n",
       "    <tr>\n",
       "      <th>0</th>\n",
       "      <td>AC</td>\n",
       "      <td>ACRELÂNDIA</td>\n",
       "      <td>1516</td>\n",
       "      <td>5238</td>\n",
       "      <td>1460</td>\n",
       "      <td>5317</td>\n",
       "    </tr>\n",
       "    <tr>\n",
       "      <th>1</th>\n",
       "      <td>AC</td>\n",
       "      <td>ASSIS BRASIL</td>\n",
       "      <td>2003</td>\n",
       "      <td>2694</td>\n",
       "      <td>1895</td>\n",
       "      <td>2717</td>\n",
       "    </tr>\n",
       "    <tr>\n",
       "      <th>2</th>\n",
       "      <td>AC</td>\n",
       "      <td>BRASILÉIA</td>\n",
       "      <td>4171</td>\n",
       "      <td>9143</td>\n",
       "      <td>3958</td>\n",
       "      <td>9593</td>\n",
       "    </tr>\n",
       "    <tr>\n",
       "      <th>3</th>\n",
       "      <td>AC</td>\n",
       "      <td>BUJARI</td>\n",
       "      <td>2130</td>\n",
       "      <td>4505</td>\n",
       "      <td>1958</td>\n",
       "      <td>4693</td>\n",
       "    </tr>\n",
       "    <tr>\n",
       "      <th>4</th>\n",
       "      <td>AC</td>\n",
       "      <td>CAPIXABA</td>\n",
       "      <td>1630</td>\n",
       "      <td>3944</td>\n",
       "      <td>1497</td>\n",
       "      <td>3963</td>\n",
       "    </tr>\n",
       "    <tr>\n",
       "      <th>5</th>\n",
       "      <td>AC</td>\n",
       "      <td>CRUZEIRO DO SUL</td>\n",
       "      <td>10770</td>\n",
       "      <td>30977</td>\n",
       "      <td>9733</td>\n",
       "      <td>31936</td>\n",
       "    </tr>\n",
       "    <tr>\n",
       "      <th>6</th>\n",
       "      <td>AC</td>\n",
       "      <td>EPITACIOLÂNDIA</td>\n",
       "      <td>2592</td>\n",
       "      <td>6494</td>\n",
       "      <td>2464</td>\n",
       "      <td>6729</td>\n",
       "    </tr>\n",
       "    <tr>\n",
       "      <th>7</th>\n",
       "      <td>AC</td>\n",
       "      <td>FEIJÓ</td>\n",
       "      <td>7930</td>\n",
       "      <td>6191</td>\n",
       "      <td>7113</td>\n",
       "      <td>6383</td>\n",
       "    </tr>\n",
       "    <tr>\n",
       "      <th>8</th>\n",
       "      <td>AC</td>\n",
       "      <td>JORDÃO</td>\n",
       "      <td>2213</td>\n",
       "      <td>1515</td>\n",
       "      <td>1980</td>\n",
       "      <td>1433</td>\n",
       "    </tr>\n",
       "    <tr>\n",
       "      <th>9</th>\n",
       "      <td>AC</td>\n",
       "      <td>MANOEL URBANO</td>\n",
       "      <td>2095</td>\n",
       "      <td>3141</td>\n",
       "      <td>2047</td>\n",
       "      <td>2889</td>\n",
       "    </tr>\n",
       "  </tbody>\n",
       "</table>\n",
       "</div>"
      ],
      "text/plain": [
       "  sg_uf     nm_municipio  qt_votos_13_primeiro_turno  \\\n",
       "0    AC       ACRELÂNDIA                        1516   \n",
       "1    AC     ASSIS BRASIL                        2003   \n",
       "2    AC        BRASILÉIA                        4171   \n",
       "3    AC           BUJARI                        2130   \n",
       "4    AC         CAPIXABA                        1630   \n",
       "5    AC  CRUZEIRO DO SUL                       10770   \n",
       "6    AC   EPITACIOLÂNDIA                        2592   \n",
       "7    AC            FEIJÓ                        7930   \n",
       "8    AC           JORDÃO                        2213   \n",
       "9    AC    MANOEL URBANO                        2095   \n",
       "\n",
       "   qt_votos_22_primeiro_turno  qt_votos_13_segundo_turno  \\\n",
       "0                        5238                       1460   \n",
       "1                        2694                       1895   \n",
       "2                        9143                       3958   \n",
       "3                        4505                       1958   \n",
       "4                        3944                       1497   \n",
       "5                       30977                       9733   \n",
       "6                        6494                       2464   \n",
       "7                        6191                       7113   \n",
       "8                        1515                       1980   \n",
       "9                        3141                       2047   \n",
       "\n",
       "   qt_votos_22_segundo_turno  \n",
       "0                       5317  \n",
       "1                       2717  \n",
       "2                       9593  \n",
       "3                       4693  \n",
       "4                       3963  \n",
       "5                      31936  \n",
       "6                       6729  \n",
       "7                       6383  \n",
       "8                       1433  \n",
       "9                       2889  "
      ]
     },
     "metadata": {},
     "output_type": "display_data"
    },
    {
     "data": {
      "text/html": [
       "<div>\n",
       "<style scoped>\n",
       "    .dataframe tbody tr th:only-of-type {\n",
       "        vertical-align: middle;\n",
       "    }\n",
       "\n",
       "    .dataframe tbody tr th {\n",
       "        vertical-align: top;\n",
       "    }\n",
       "\n",
       "    .dataframe thead th {\n",
       "        text-align: right;\n",
       "    }\n",
       "</style>\n",
       "<table border=\"1\" class=\"dataframe\">\n",
       "  <thead>\n",
       "    <tr style=\"text-align: right;\">\n",
       "      <th></th>\n",
       "      <th>sg_uf</th>\n",
       "      <th>nm_municipio</th>\n",
       "      <th>qt_votos_13_primeiro_turno</th>\n",
       "      <th>qt_votos_22_primeiro_turno</th>\n",
       "      <th>qt_votos_13_segundo_turno</th>\n",
       "      <th>qt_votos_22_segundo_turno</th>\n",
       "    </tr>\n",
       "  </thead>\n",
       "  <tbody>\n",
       "    <tr>\n",
       "      <th>4430</th>\n",
       "      <td>SC</td>\n",
       "      <td>ARARANGUÁ</td>\n",
       "      <td>11852</td>\n",
       "      <td>25630</td>\n",
       "      <td>12522</td>\n",
       "      <td>28631</td>\n",
       "    </tr>\n",
       "  </tbody>\n",
       "</table>\n",
       "</div>"
      ],
      "text/plain": [
       "     sg_uf nm_municipio  qt_votos_13_primeiro_turno  \\\n",
       "4430    SC    ARARANGUÁ                       11852   \n",
       "\n",
       "      qt_votos_22_primeiro_turno  qt_votos_13_segundo_turno  \\\n",
       "4430                       25630                      12522   \n",
       "\n",
       "      qt_votos_22_segundo_turno  \n",
       "4430                      28631  "
      ]
     },
     "metadata": {},
     "output_type": "display_data"
    }
   ],
   "source": [
    "# Junção em uma tabela apenas\n",
    "\n",
    "# Primeiro turno\n",
    "\n",
    "df_first_round = df_raw_first_round.drop(['dt_carga'], axis=1)\n",
    "\n",
    "df_first_round_13 = (df_first_round[df_first_round['nr_candidato'] == 13]\n",
    "\t.copy(deep=True)\n",
    "\t.rename(columns={'qt_votos_nominais': 'qt_votos_13_primeiro_turno'})\n",
    "\t.drop(['nr_candidato'], axis=1))\n",
    "\n",
    "df_first_round_22 = (df_first_round[df_first_round['nr_candidato'] == 22]\n",
    "\t.copy(deep=True)\n",
    "\t.rename(columns={'qt_votos_nominais': 'qt_votos_22_primeiro_turno'})\n",
    "\t.drop(['nr_candidato'], axis=1))\n",
    "\n",
    "df_first_round_unified = pd.merge(df_first_round_13, df_first_round_22, on=['sg_uf', 'nm_municipio'])\n",
    "\n",
    "# Segundo turno\n",
    "\n",
    "df_second_round = df_raw_second_round.drop(['dt_carga'], axis=1)\n",
    "\n",
    "df_second_round_13 = (df_second_round[df_second_round['nr_candidato'] == 13]\n",
    "\t.copy(deep=True)\n",
    "\t.rename(columns={'qt_votos_nominais': 'qt_votos_13_segundo_turno'})\n",
    "\t.drop(['nr_candidato'], axis=1))\n",
    "\n",
    "df_second_round_22 = (df_second_round[df_second_round['nr_candidato'] == 22]\n",
    "\t.copy(deep=True)\n",
    "\t.rename(columns={'qt_votos_nominais': 'qt_votos_22_segundo_turno'})\n",
    "\t.drop(['nr_candidato'], axis=1))\n",
    "\n",
    "df_second_round_unified = pd.merge(df_second_round_13, df_second_round_22, on=['sg_uf', 'nm_municipio'])\n",
    "\n",
    "# Junção dos turnos\n",
    "\n",
    "df_votes = pd.merge(df_first_round_unified, df_second_round_unified, on=['sg_uf', 'nm_municipio'])\n",
    "\n",
    "\n",
    "# df_first_round = (df_raw_first_round\n",
    "# \t.drop(['dt_carga'], axis=1)\n",
    "# \t.rename(columns={'qt_votos_nominais': 'qt_votos_primeiro_turno'}))\n",
    "\n",
    "# df_second_round = (df_raw_second_round\n",
    "# \t.drop(['dt_carga'], axis=1)\n",
    "# \t.rename(columns={'qt_votos_nominais': 'qt_votos_segundo_turno'}))\n",
    "\n",
    "# df_votes = pd.merge(df_first_round, df_second_round, how='left')\n",
    "# df_votes['qt_votos_segundo_turno'] = (df_votes['qt_votos_segundo_turno']\n",
    "# \t.fillna(0)\n",
    "# \t.astype(np.int64))\n",
    "\n",
    "print(df_votes.shape)\n",
    "print(df_votes.dtypes)\n",
    "display(df_votes.head(10))\n",
    "display(df_votes[df_votes['nm_municipio'] == 'ARARANGUÁ'])\n",
    "\n"
   ]
  },
  {
   "cell_type": "code",
   "execution_count": 295,
   "metadata": {},
   "outputs": [],
   "source": [
    "# Salvando os dados\n",
    "\n",
    "# df_votes.to_csv('data/votes.csv')"
   ]
  },
  {
   "cell_type": "markdown",
   "metadata": {},
   "source": [
    "# Exploração dos dados"
   ]
  },
  {
   "cell_type": "code",
   "execution_count": 296,
   "metadata": {},
   "outputs": [
    {
     "data": {
      "text/plain": [
       "<AxesSubplot: title={'center': 'Votos por estado'}, xlabel='Estados', ylabel='Votos (em milhões)'>"
      ]
     },
     "execution_count": 296,
     "metadata": {},
     "output_type": "execute_result"
    },
    {
     "data": {
      "image/png": "[encoded data removed]",
      "text/plain": [
       "<Figure size 864x432 with 1 Axes>"
      ]
     },
     "metadata": {
      "needs_background": "light"
     },
     "output_type": "display_data"
    }
   ],
   "source": [
    "df_total_votes_uf_muni = df_votes.copy(deep=True)[['sg_uf', 'nm_municipio']]\n",
    "df_total_votes_uf_muni['qt_votos_primeiro_turno'] = df_votes['qt_votos_13_primeiro_turno'] + df_votes['qt_votos_22_primeiro_turno']\n",
    "df_total_votes_uf_muni['qt_votos_segundo_turno'] = df_votes['qt_votos_13_segundo_turno'] + df_votes['qt_votos_22_segundo_turno']\n",
    "\n",
    "votes_by_state = ((df_total_votes_uf_muni\n",
    " \t.groupby(['sg_uf'])[['qt_votos_primeiro_turno']]\n",
    " \t.sum()\n",
    " \t.sort_values(by='qt_votos_primeiro_turno', ascending=False)) / 10**6)\n",
    "\n",
    "votes_by_state.plot(\n",
    "\tkind='bar',\n",
    "\ttitle='Votos por estado',\n",
    "\tylabel='Votos (em milhões)',\n",
    "\txlabel='Estados',\n",
    "\tlegend=None,\n",
    "\tfigsize=(12, 6)\n",
    ")\n"
   ]
  },
  {
   "cell_type": "code",
   "execution_count": 297,
   "metadata": {},
   "outputs": [
    {
     "data": {
      "text/plain": [
       "<AxesSubplot: title={'center': 'Votos por município'}, xlabel='Municípios', ylabel='Votos (em milhões)'>"
      ]
     },
     "execution_count": 297,
     "metadata": {},
     "output_type": "execute_result"
    },
    {
     "data": {
      "image/png": "[encoded data removed]",
      "text/plain": [
       "<Figure size 864x432 with 1 Axes>"
      ]
     },
     "metadata": {
      "needs_background": "light"
     },
     "output_type": "display_data"
    }
   ],
   "source": [
    "df_total_votes_muni = df_votes.copy(deep=True)[['nm_municipio', 'qt_votos_13_primeiro_turno', 'qt_votos_22_primeiro_turno']]\n",
    "df_total_votes_muni['qt_votos_13_primeiro_turno'] = df_total_votes_muni['qt_votos_13_primeiro_turno'] / 10**6\n",
    "df_total_votes_muni['qt_votos_22_primeiro_turno'] = df_total_votes_muni['qt_votos_22_primeiro_turno'] / 10**6\n",
    "\n",
    "votes_by_mun = df_total_votes_muni.sort_values(by='qt_votos_13_primeiro_turno', ascending=False)\n",
    "\n",
    "votes_by_mun.plot(\n",
    "\tkind='line',\n",
    "\ttitle='Votos por município',\n",
    "\tx='nm_municipio',\n",
    "\ty=['qt_votos_13_primeiro_turno'],\n",
    "\tylabel='Votos (em milhões)',\n",
    "\txlabel='Municípios',\n",
    "\tlegend=None,\n",
    "\tfigsize=(12, 6)\n",
    ")"
   ]
  },
  {
   "cell_type": "code",
   "execution_count": 298,
   "metadata": {},
   "outputs": [
    {
     "data": {
      "text/plain": [
       "<AxesSubplot: title={'center': 'Votos fora do Brasil por cidade'}, xlabel='Estados', ylabel='Votos'>"
      ]
     },
     "execution_count": 298,
     "metadata": {},
     "output_type": "execute_result"
    },
    {
     "data": {
      "image/png": "[encoded data removed]",
      "text/plain": [
       "<Figure size 864x432 with 1 Axes>"
      ]
     },
     "metadata": {
      "needs_background": "light"
     },
     "output_type": "display_data"
    }
   ],
   "source": [
    "# https://www.gov.br/mre/pt-br/consulado-nagoia/eleicoes-2022-1/locais-de-votacao/nagoia\n",
    "\n",
    "votes_outsize_brasil = ((df_total_votes_uf_muni[df_total_votes_uf_muni['sg_uf'] == 'ZZ']\n",
    "\t.groupby(['nm_municipio'])[['qt_votos_primeiro_turno']]\n",
    "\t.sum()\n",
    "\t.sort_values(by='qt_votos_primeiro_turno', ascending=False)\n",
    "\t.head(25)))\n",
    "\n",
    "votes_outsize_brasil.plot(\n",
    "\tkind='bar',\n",
    "\ttitle='Votos fora do Brasil por cidade',\n",
    "\tylabel='Votos',\n",
    "\txlabel='Estados',\n",
    "\tlegend=None,\n",
    "\tfigsize=(12, 6)\n",
    ")\n",
    "\n"
   ]
  },
  {
   "cell_type": "code",
   "execution_count": 299,
   "metadata": {},
   "outputs": [
    {
     "name": "stdout",
     "output_type": "stream",
     "text": [
      "Número de cidades com mais de 80% de votos no Lula: 913\n",
      "Número de cidades com mais de 80% de votos no Bolsonaro: 44\n"
     ]
    },
    {
     "data": {
      "text/plain": [
       "<AxesSubplot: title={'center': 'Proporção dos votos'}, xlabel='Cidades', ylabel='Proporção dos votos do Lula'>"
      ]
     },
     "execution_count": 299,
     "metadata": {},
     "output_type": "execute_result"
    },
    {
     "data": {
      "image/png": "[encoded data removed]",
      "text/plain": [
       "<Figure size 864x432 with 1 Axes>"
      ]
     },
     "metadata": {
      "needs_background": "light"
     },
     "output_type": "display_data"
    }
   ],
   "source": [
    "df_proportion = df_votes.copy(deep=True)[['sg_uf', 'nm_municipio']]\n",
    "df_proportion['proporcao_13_primeiro_turno'] = df_votes['qt_votos_13_primeiro_turno'] / df_total_votes_uf_muni['qt_votos_primeiro_turno'] * 100\n",
    "df_proportion['proporcao_13_votos_segundo_turno'] = df_votes['qt_votos_13_segundo_turno'] / df_total_votes_uf_muni['qt_votos_segundo_turno'] * 100\n",
    "df_proportion = df_proportion.dropna() # Cidades que não tiveram votos\n",
    "\n",
    "print(f'Número de cidades com mais de 80% de votos no Lula: {df_proportion[df_proportion[\"proporcao_13_primeiro_turno\"] > 80].shape[0]}')\n",
    "print(f'Número de cidades com mais de 80% de votos no Bolsonaro: {df_proportion[df_proportion[\"proporcao_13_primeiro_turno\"] < 20].shape[0]}')\n",
    "\n",
    "(df_proportion[['nm_municipio', 'proporcao_13_votos_segundo_turno']]\n",
    "\t.sort_values(by='proporcao_13_votos_segundo_turno', ascending=False)\n",
    "\t.plot(\n",
    "\t\tkind='line', # hist line\n",
    "\t\ttitle='Proporção dos votos',\n",
    "\t\tx='nm_municipio',\n",
    "\t\ty=['proporcao_13_votos_segundo_turno'],\n",
    "\t\tylabel='Proporção dos votos do Lula',\n",
    "\t\txlabel='Cidades',\n",
    "\t\tgrid=True,\n",
    "\t\tlegend=None,\n",
    "\t\tfigsize=(12, 6)\n",
    "\t)\n",
    ")\n"
   ]
  },
  {
   "cell_type": "markdown",
   "metadata": {},
   "source": [
    "# Processamento para agrupamento"
   ]
  },
  {
   "cell_type": "code",
   "execution_count": 300,
   "metadata": {},
   "outputs": [
    {
     "data": {
      "text/plain": [
       "<AxesSubplot: title={'center': 'Standard Scaler'}, xlabel='Municípios', ylabel='Votos'>"
      ]
     },
     "execution_count": 300,
     "metadata": {},
     "output_type": "execute_result"
    },
    {
     "data": {
      "image/png": "[encoded data removed]",
      "text/plain": [
       "<Figure size 864x720 with 1 Axes>"
      ]
     },
     "metadata": {
      "needs_background": "light"
     },
     "output_type": "display_data"
    }
   ],
   "source": [
    "from sklearn import preprocessing\n",
    "\n",
    "VOTES_COLUMNS = ['qt_votos_13_primeiro_turno', 'qt_votos_22_primeiro_turno', 'qt_votos_13_segundo_turno', 'qt_votos_22_segundo_turno']\n",
    "\n",
    "df_votes_scalled = df_votes.copy(deep=True)\n",
    "votes_scaler = preprocessing.StandardScaler().fit(df_votes[VOTES_COLUMNS])\n",
    "\n",
    "\n",
    "df_votes_scalled[VOTES_COLUMNS] = pd.DataFrame(votes_scaler.transform(df_votes[VOTES_COLUMNS]))\n",
    "df_votes_scalled = df_votes_scalled.sort_values(by='qt_votos_13_primeiro_turno', ascending=False)\n",
    "\n",
    "df_votes_scalled.plot(\n",
    "\tkind='line',\n",
    "\ttitle='Standard Scaler',\n",
    "\tx='nm_municipio',\n",
    "\ty='qt_votos_13_primeiro_turno',\n",
    "\tylabel='Votos',\n",
    "\txlabel='Municípios',\n",
    "\tlegend=None,\n",
    "\tfigsize=(12, 10),\n",
    ")\n"
   ]
  },
  {
   "cell_type": "code",
   "execution_count": 301,
   "metadata": {},
   "outputs": [
    {
     "data": {
      "text/plain": [
       "<AxesSubplot: title={'center': 'Standard Scaler Log'}, xlabel='Municípios', ylabel='Votos'>"
      ]
     },
     "execution_count": 301,
     "metadata": {},
     "output_type": "execute_result"
    },
    {
     "data": {
      "image/png": "[encoded data removed]",
      "text/plain": [
       "<Figure size 864x720 with 1 Axes>"
      ]
     },
     "metadata": {
      "needs_background": "light"
     },
     "output_type": "display_data"
    }
   ],
   "source": [
    "df_votes_log = df_votes.copy(deep=True)\n",
    "df_votes_log[VOTES_COLUMNS] = pd.DataFrame(\n",
    "\tpreprocessing.FunctionTransformer(np.log1p).fit_transform(\n",
    "\t\tdf_votes[VOTES_COLUMNS]\n",
    "\t)\n",
    ")\n",
    "df_votes_log = df_votes_log.sort_values(by='qt_votos_13_primeiro_turno', ascending=False)\n",
    "\n",
    "df_votes_log.plot(\n",
    "\tkind='line',\n",
    "\ttitle='Standard Scaler Log',\n",
    "\tx='nm_municipio',\n",
    "\ty='qt_votos_13_primeiro_turno',\n",
    "\tylabel='Votos',\n",
    "\txlabel='Municípios',\n",
    "\tlegend=None,\n",
    "\tfigsize=(12, 10),\n",
    ")"
   ]
  },
  {
   "cell_type": "code",
   "execution_count": 302,
   "metadata": {},
   "outputs": [
    {
     "data": {
      "text/html": [
       "<div>\n",
       "<style scoped>\n",
       "    .dataframe tbody tr th:only-of-type {\n",
       "        vertical-align: middle;\n",
       "    }\n",
       "\n",
       "    .dataframe tbody tr th {\n",
       "        vertical-align: top;\n",
       "    }\n",
       "\n",
       "    .dataframe thead th {\n",
       "        text-align: right;\n",
       "    }\n",
       "</style>\n",
       "<table border=\"1\" class=\"dataframe\">\n",
       "  <thead>\n",
       "    <tr style=\"text-align: right;\">\n",
       "      <th></th>\n",
       "      <th>sg_uf</th>\n",
       "      <th>nm_municipio</th>\n",
       "      <th>qt_votos_13_primeiro_turno</th>\n",
       "      <th>qt_votos_22_primeiro_turno</th>\n",
       "      <th>qt_votos_13_segundo_turno</th>\n",
       "      <th>qt_votos_22_segundo_turno</th>\n",
       "    </tr>\n",
       "  </thead>\n",
       "  <tbody>\n",
       "    <tr>\n",
       "      <th>5358</th>\n",
       "      <td>25</td>\n",
       "      <td>4897</td>\n",
       "      <td>57.748345</td>\n",
       "      <td>51.194705</td>\n",
       "      <td>58.538221</td>\n",
       "      <td>52.869654</td>\n",
       "    </tr>\n",
       "    <tr>\n",
       "      <th>3660</th>\n",
       "      <td>18</td>\n",
       "      <td>4118</td>\n",
       "      <td>27.552706</td>\n",
       "      <td>33.091831</td>\n",
       "      <td>27.512561</td>\n",
       "      <td>31.892468</td>\n",
       "    </tr>\n",
       "    <tr>\n",
       "      <th>535</th>\n",
       "      <td>4</td>\n",
       "      <td>4243</td>\n",
       "      <td>17.904450</td>\n",
       "      <td>7.034092</td>\n",
       "      <td>17.229105</td>\n",
       "      <td>7.328947</td>\n",
       "    </tr>\n",
       "    <tr>\n",
       "      <th>677</th>\n",
       "      <td>5</td>\n",
       "      <td>1767</td>\n",
       "      <td>14.002433</td>\n",
       "      <td>10.225972</td>\n",
       "      <td>13.887692</td>\n",
       "      <td>10.351497</td>\n",
       "    </tr>\n",
       "    <tr>\n",
       "      <th>803</th>\n",
       "      <td>6</td>\n",
       "      <td>701</td>\n",
       "      <td>11.306878</td>\n",
       "      <td>17.685039</td>\n",
       "      <td>11.473268</td>\n",
       "      <td>17.137219</td>\n",
       "    </tr>\n",
       "  </tbody>\n",
       "</table>\n",
       "</div>"
      ],
      "text/plain": [
       "      sg_uf  nm_municipio  qt_votos_13_primeiro_turno  \\\n",
       "5358     25          4897                   57.748345   \n",
       "3660     18          4118                   27.552706   \n",
       "535       4          4243                   17.904450   \n",
       "677       5          1767                   14.002433   \n",
       "803       6           701                   11.306878   \n",
       "\n",
       "      qt_votos_22_primeiro_turno  qt_votos_13_segundo_turno  \\\n",
       "5358                   51.194705                  58.538221   \n",
       "3660                   33.091831                  27.512561   \n",
       "535                     7.034092                  17.229105   \n",
       "677                    10.225972                  13.887692   \n",
       "803                    17.685039                  11.473268   \n",
       "\n",
       "      qt_votos_22_segundo_turno  \n",
       "5358                  52.869654  \n",
       "3660                  31.892468  \n",
       "535                    7.328947  \n",
       "677                   10.351497  \n",
       "803                   17.137219  "
      ]
     },
     "execution_count": 302,
     "metadata": {},
     "output_type": "execute_result"
    }
   ],
   "source": [
    "from sklearn.preprocessing import LabelEncoder\n",
    "\n",
    "#df_votes = df_votes_log.copy(deep=True)\n",
    "df_votes = df_votes_scalled.copy(deep=True)\n",
    "\n",
    "label_encoder_municipio = LabelEncoder().fit(df_votes['nm_municipio'])\n",
    "df_votes['nm_municipio'] = label_encoder_municipio.transform(df_votes['nm_municipio'])\n",
    "\n",
    "label_encoder_estado = LabelEncoder().fit(df_votes['sg_uf'])\n",
    "df_votes['sg_uf'] = label_encoder_estado.transform(df_votes['sg_uf'])\n",
    "\n",
    "df_votes.head()"
   ]
  },
  {
   "cell_type": "code",
   "execution_count": 303,
   "metadata": {},
   "outputs": [],
   "source": [
    "# https://scikit-learn.org/stable/_static/ml_map.png\n",
    "\n",
    "from sklearn import metrics\n",
    "from sklearn.cluster import KMeans\n",
    "\n",
    "calinski_harabasz_score = {}\n",
    "for k in range(2, 11):\n",
    "    kmeans = KMeans(n_clusters=k, max_iter=2000).fit(df_votes)\n",
    "    label = kmeans.labels_\n",
    "    calinski_harabasz_score[k] = metrics.calinski_harabasz_score(df_votes, label)\n",
    "\n",
    "plt.figure()\n",
    "plt.plot(list(calinski_harabasz_score.keys()), list(calinski_harabasz_score.values()))\n",
    "plt.xlabel(\"Number of cluster\")\n",
    "plt.ylabel(\"Calinski Harabasz Score\")\n",
    "plt.show()\n",
    "\n"
   ]
  },
  {
   "cell_type": "code",
   "execution_count": null,
   "metadata": {},
   "outputs": [
    {
     "name": "stdout",
     "output_type": "stream",
     "text": [
      "[[1.50625223e+01 2.74220217e+03 6.11923691e+03 4.82885305e+03\n",
      "  6.33347186e+03 5.44169469e+03]\n",
      " [2.50000000e+01 4.89700000e+03 3.27651200e+06 2.61859300e+06\n",
      "  3.67792100e+06 3.19148400e+06]\n",
      " [1.15454545e+01 2.16227273e+03 5.28084000e+05 5.09499000e+05\n",
      "  5.71643727e+05 5.92549091e+05]\n",
      " [1.74193548e+01 2.80752419e+03 9.88079597e+04 1.13260524e+05\n",
      "  1.05562315e+05 1.29176992e+05]\n",
      " [1.80000000e+01 4.11800000e+03 1.56848500e+06 1.69577700e+06\n",
      "  1.73415900e+06 1.92920900e+06]]\n"
     ]
    }
   ],
   "source": [
    "kmeans = KMeans(n_clusters=5)\n",
    "kmeans.fit(df_votes)\n",
    "print(kmeans.cluster_centers_)"
   ]
  },
  {
   "cell_type": "code",
   "execution_count": null,
   "metadata": {},
   "outputs": [
    {
     "ename": "AttributeError",
     "evalue": "'str' object has no attribute 'get_figure'",
     "output_type": "error",
     "traceback": [
      "\u001b[0;31m---------------------------------------------------------------------------\u001b[0m",
      "\u001b[0;31mAttributeError\u001b[0m                            Traceback (most recent call last)",
      "\u001b[1;32m/home/felipe/ufsc/ciencia-de-dados/trab-final/main.ipynb Cell 15\u001b[0m in \u001b[0;36m<cell line: 1>\u001b[0;34m()\u001b[0m\n\u001b[0;32m----> <a href='vscode-notebook-cell://wsl%2Bubuntu-20.04/home/felipe/ufsc/ciencia-de-dados/trab-final/main.ipynb#X20sdnNjb2RlLXJlbW90ZQ%3D%3D?line=0'>1</a>\u001b[0m df_votes\u001b[39m.\u001b[39;49msort_values(by\u001b[39m=\u001b[39;49m\u001b[39m'\u001b[39;49m\u001b[39mqt_votos_13_primeiro_turno\u001b[39;49m\u001b[39m'\u001b[39;49m, ascending\u001b[39m=\u001b[39;49m\u001b[39mFalse\u001b[39;49;00m)\u001b[39m.\u001b[39;49mplot(\n\u001b[1;32m      <a href='vscode-notebook-cell://wsl%2Bubuntu-20.04/home/felipe/ufsc/ciencia-de-dados/trab-final/main.ipynb#X20sdnNjb2RlLXJlbW90ZQ%3D%3D?line=1'>2</a>\u001b[0m \tax\u001b[39m=\u001b[39;49m\u001b[39m'\u001b[39;49m\u001b[39mnm_municipio\u001b[39;49m\u001b[39m'\u001b[39;49m\n\u001b[1;32m      <a href='vscode-notebook-cell://wsl%2Bubuntu-20.04/home/felipe/ufsc/ciencia-de-dados/trab-final/main.ipynb#X20sdnNjb2RlLXJlbW90ZQ%3D%3D?line=2'>3</a>\u001b[0m )\n",
      "File \u001b[0;32m~/.pyenv/versions/3.10.5/lib/python3.10/site-packages/pandas/plotting/_core.py:972\u001b[0m, in \u001b[0;36mPlotAccessor.__call__\u001b[0;34m(self, *args, **kwargs)\u001b[0m\n\u001b[1;32m    969\u001b[0m             label_name \u001b[39m=\u001b[39m label_kw \u001b[39mor\u001b[39;00m data\u001b[39m.\u001b[39mcolumns\n\u001b[1;32m    970\u001b[0m             data\u001b[39m.\u001b[39mcolumns \u001b[39m=\u001b[39m label_name\n\u001b[0;32m--> 972\u001b[0m \u001b[39mreturn\u001b[39;00m plot_backend\u001b[39m.\u001b[39;49mplot(data, kind\u001b[39m=\u001b[39;49mkind, \u001b[39m*\u001b[39;49m\u001b[39m*\u001b[39;49mkwargs)\n",
      "File \u001b[0;32m~/.pyenv/versions/3.10.5/lib/python3.10/site-packages/pandas/plotting/_matplotlib/__init__.py:71\u001b[0m, in \u001b[0;36mplot\u001b[0;34m(data, kind, **kwargs)\u001b[0m\n\u001b[1;32m     69\u001b[0m         kwargs[\u001b[39m\"\u001b[39m\u001b[39max\u001b[39m\u001b[39m\"\u001b[39m] \u001b[39m=\u001b[39m \u001b[39mgetattr\u001b[39m(ax, \u001b[39m\"\u001b[39m\u001b[39mleft_ax\u001b[39m\u001b[39m\"\u001b[39m, ax)\n\u001b[1;32m     70\u001b[0m plot_obj \u001b[39m=\u001b[39m PLOT_CLASSES[kind](data, \u001b[39m*\u001b[39m\u001b[39m*\u001b[39mkwargs)\n\u001b[0;32m---> 71\u001b[0m plot_obj\u001b[39m.\u001b[39;49mgenerate()\n\u001b[1;32m     72\u001b[0m plot_obj\u001b[39m.\u001b[39mdraw()\n\u001b[1;32m     73\u001b[0m \u001b[39mreturn\u001b[39;00m plot_obj\u001b[39m.\u001b[39mresult\n",
      "File \u001b[0;32m~/.pyenv/versions/3.10.5/lib/python3.10/site-packages/pandas/plotting/_matplotlib/core.py:328\u001b[0m, in \u001b[0;36mMPLPlot.generate\u001b[0;34m(self)\u001b[0m\n\u001b[1;32m    326\u001b[0m \u001b[39mself\u001b[39m\u001b[39m.\u001b[39m_args_adjust()\n\u001b[1;32m    327\u001b[0m \u001b[39mself\u001b[39m\u001b[39m.\u001b[39m_compute_plot_data()\n\u001b[0;32m--> 328\u001b[0m \u001b[39mself\u001b[39;49m\u001b[39m.\u001b[39;49m_setup_subplots()\n\u001b[1;32m    329\u001b[0m \u001b[39mself\u001b[39m\u001b[39m.\u001b[39m_make_plot()\n\u001b[1;32m    330\u001b[0m \u001b[39mself\u001b[39m\u001b[39m.\u001b[39m_add_table()\n",
      "File \u001b[0;32m~/.pyenv/versions/3.10.5/lib/python3.10/site-packages/pandas/plotting/_matplotlib/core.py:389\u001b[0m, in \u001b[0;36mMPLPlot._setup_subplots\u001b[0;34m(self)\u001b[0m\n\u001b[1;32m    387\u001b[0m     axes \u001b[39m=\u001b[39m fig\u001b[39m.\u001b[39madd_subplot(\u001b[39m111\u001b[39m)\n\u001b[1;32m    388\u001b[0m \u001b[39melse\u001b[39;00m:\n\u001b[0;32m--> 389\u001b[0m     fig \u001b[39m=\u001b[39m \u001b[39mself\u001b[39;49m\u001b[39m.\u001b[39;49max\u001b[39m.\u001b[39;49mget_figure()\n\u001b[1;32m    390\u001b[0m     \u001b[39mif\u001b[39;00m \u001b[39mself\u001b[39m\u001b[39m.\u001b[39mfigsize \u001b[39mis\u001b[39;00m \u001b[39mnot\u001b[39;00m \u001b[39mNone\u001b[39;00m:\n\u001b[1;32m    391\u001b[0m         fig\u001b[39m.\u001b[39mset_size_inches(\u001b[39mself\u001b[39m\u001b[39m.\u001b[39mfigsize)\n",
      "\u001b[0;31mAttributeError\u001b[0m: 'str' object has no attribute 'get_figure'"
     ]
    }
   ],
   "source": [
    "\n",
    "# np_votes = df_votes.to_numpy()\n",
    "\n",
    "# fig = plt.figure(0, figsize=(12, 6), dpi=100)\n",
    "# ax = fig.add_subplot(111, projection=\"3d\", elev=48, azim=134)\n",
    "# #ax.set_position([0, 0, 1, 1])\n",
    "\n",
    "# #ax.scatter(kmeans.cluster_centers_[:, 3], kmeans.cluster_centers_[:, 0], kmeans.cluster_centers_[:, 2], c=labels.astype(float), edgecolor=\"k\")\n",
    "# ax.scatter(np_votes[:, 1], np_votes[:, 2], c=kmeans.labels_.astype(float), edgecolor=\"k\")\n",
    "\n",
    "# ax.xaxis.set_ticklabels([])\n",
    "# ax.yaxis.set_ticklabels([])\n",
    "# ax.zaxis.set_ticklabels([])\n",
    "# ax.set_xlabel(\"Cidades\")\n",
    "# ax.set_ylabel(\"Votos primeiro turno\")\n",
    "# ax.set_zlabel(\"Votos segundo turno\")\n",
    "# ax.set_title('Distribuição de votos')"
   ]
  },
  {
   "cell_type": "code",
   "execution_count": null,
   "metadata": {},
   "outputs": [
    {
     "data": {
      "text/plain": [
       "array([[   0,   29, 1516, 5238, 1460, 5317],\n",
       "       [   0,  372, 2003, 2694, 1895, 2717],\n",
       "       [   0,  699, 4171, 9143, 3958, 9593],\n",
       "       ...,\n",
       "       [  27, 5425,    0,    0,    0,    0],\n",
       "       [  27, 5428,   25,   14,   26,   15],\n",
       "       [  27, 5430, 2683, 2243, 3189, 2762]])"
      ]
     },
     "execution_count": 13,
     "metadata": {},
     "output_type": "execute_result"
    }
   ],
   "source": []
  }
 ],
 "metadata": {
  "kernelspec": {
   "display_name": "Python 3.10.5 64-bit ('3.10.5')",
   "language": "python",
   "name": "python3"
  },
  "language_info": {
   "codemirror_mode": {
    "name": "ipython",
    "version": 3
   },
   "file_extension": ".py",
   "mimetype": "text/x-python",
   "name": "python",
   "nbconvert_exporter": "python",
   "pygments_lexer": "ipython3",
   "version": "3.10.5"
  },
  "orig_nbformat": 4,
  "vscode": {
   "interpreter": {
    "hash": "a171596892920571d73bee0b16c0fc7a42e8e6c498e5f9fd25d129205a1823e7"
   }
  }
 },
 "nbformat": 4,
 "nbformat_minor": 2
}
