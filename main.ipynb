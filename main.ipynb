{
 "cells": [
  {
   "cell_type": "markdown",
   "metadata": {},
   "source": [
    "Fonte de dados: https://sig.tse.jus.br/ords/dwapr/seai/r/sig-eleicao-resultados/conjuntos-de-dados\n",
    "\n",
    "Os dados foram exportados foram:\n",
    " - Métricas: Quantidade de votos nominais\n",
    " - Dimensões: UF, Município, Número do candidato\n",
    " - Tipo de Arquivo: CSV (en-US)"
   ]
  },
  {
   "cell_type": "code",
   "execution_count": 26,
   "metadata": {},
   "outputs": [],
   "source": [
    "import pandas as pd\n",
    "import numpy as np"
   ]
  },
  {
   "cell_type": "code",
   "execution_count": 30,
   "metadata": {},
   "outputs": [
    {
     "name": "stdout",
     "output_type": "stream",
     "text": [
      "(63261, 5)\n",
      "sg_uf                object\n",
      "nm_municipio         object\n",
      "nr_candidato          int64\n",
      "qt_votos_nominais     int64\n",
      "dt_carga             object\n",
      "dtype: object\n"
     ]
    },
    {
     "data": {
      "text/html": [
       "<div>\n",
       "<style scoped>\n",
       "    .dataframe tbody tr th:only-of-type {\n",
       "        vertical-align: middle;\n",
       "    }\n",
       "\n",
       "    .dataframe tbody tr th {\n",
       "        vertical-align: top;\n",
       "    }\n",
       "\n",
       "    .dataframe thead th {\n",
       "        text-align: right;\n",
       "    }\n",
       "</style>\n",
       "<table border=\"1\" class=\"dataframe\">\n",
       "  <thead>\n",
       "    <tr style=\"text-align: right;\">\n",
       "      <th></th>\n",
       "      <th>sg_uf</th>\n",
       "      <th>nm_municipio</th>\n",
       "      <th>nr_candidato</th>\n",
       "      <th>qt_votos_nominais</th>\n",
       "      <th>dt_carga</th>\n",
       "    </tr>\n",
       "  </thead>\n",
       "  <tbody>\n",
       "    <tr>\n",
       "      <th>48730</th>\n",
       "      <td>SC</td>\n",
       "      <td>ARARANGUÁ</td>\n",
       "      <td>12</td>\n",
       "      <td>1009</td>\n",
       "      <td>2022-11-25 18:45:37</td>\n",
       "    </tr>\n",
       "    <tr>\n",
       "      <th>48731</th>\n",
       "      <td>SC</td>\n",
       "      <td>ARARANGUÁ</td>\n",
       "      <td>13</td>\n",
       "      <td>11852</td>\n",
       "      <td>2022-11-25 18:45:37</td>\n",
       "    </tr>\n",
       "    <tr>\n",
       "      <th>48732</th>\n",
       "      <td>SC</td>\n",
       "      <td>ARARANGUÁ</td>\n",
       "      <td>14</td>\n",
       "      <td>37</td>\n",
       "      <td>2022-11-25 18:45:37</td>\n",
       "    </tr>\n",
       "    <tr>\n",
       "      <th>48733</th>\n",
       "      <td>SC</td>\n",
       "      <td>ARARANGUÁ</td>\n",
       "      <td>15</td>\n",
       "      <td>1516</td>\n",
       "      <td>2022-11-25 18:45:37</td>\n",
       "    </tr>\n",
       "    <tr>\n",
       "      <th>48734</th>\n",
       "      <td>SC</td>\n",
       "      <td>ARARANGUÁ</td>\n",
       "      <td>16</td>\n",
       "      <td>11</td>\n",
       "      <td>2022-11-25 18:45:37</td>\n",
       "    </tr>\n",
       "    <tr>\n",
       "      <th>48735</th>\n",
       "      <td>SC</td>\n",
       "      <td>ARARANGUÁ</td>\n",
       "      <td>21</td>\n",
       "      <td>15</td>\n",
       "      <td>2022-11-25 18:45:37</td>\n",
       "    </tr>\n",
       "    <tr>\n",
       "      <th>48736</th>\n",
       "      <td>SC</td>\n",
       "      <td>ARARANGUÁ</td>\n",
       "      <td>22</td>\n",
       "      <td>25630</td>\n",
       "      <td>2022-11-25 18:45:37</td>\n",
       "    </tr>\n",
       "    <tr>\n",
       "      <th>48737</th>\n",
       "      <td>SC</td>\n",
       "      <td>ARARANGUÁ</td>\n",
       "      <td>27</td>\n",
       "      <td>4</td>\n",
       "      <td>2022-11-25 18:45:37</td>\n",
       "    </tr>\n",
       "    <tr>\n",
       "      <th>48738</th>\n",
       "      <td>SC</td>\n",
       "      <td>ARARANGUÁ</td>\n",
       "      <td>30</td>\n",
       "      <td>345</td>\n",
       "      <td>2022-11-25 18:45:37</td>\n",
       "    </tr>\n",
       "    <tr>\n",
       "      <th>48739</th>\n",
       "      <td>SC</td>\n",
       "      <td>ARARANGUÁ</td>\n",
       "      <td>44</td>\n",
       "      <td>110</td>\n",
       "      <td>2022-11-25 18:45:37</td>\n",
       "    </tr>\n",
       "    <tr>\n",
       "      <th>48740</th>\n",
       "      <td>SC</td>\n",
       "      <td>ARARANGUÁ</td>\n",
       "      <td>80</td>\n",
       "      <td>7</td>\n",
       "      <td>2022-11-25 18:45:37</td>\n",
       "    </tr>\n",
       "  </tbody>\n",
       "</table>\n",
       "</div>"
      ],
      "text/plain": [
       "      sg_uf nm_municipio  nr_candidato  qt_votos_nominais             dt_carga\n",
       "48730    SC    ARARANGUÁ            12               1009  2022-11-25 18:45:37\n",
       "48731    SC    ARARANGUÁ            13              11852  2022-11-25 18:45:37\n",
       "48732    SC    ARARANGUÁ            14                 37  2022-11-25 18:45:37\n",
       "48733    SC    ARARANGUÁ            15               1516  2022-11-25 18:45:37\n",
       "48734    SC    ARARANGUÁ            16                 11  2022-11-25 18:45:37\n",
       "48735    SC    ARARANGUÁ            21                 15  2022-11-25 18:45:37\n",
       "48736    SC    ARARANGUÁ            22              25630  2022-11-25 18:45:37\n",
       "48737    SC    ARARANGUÁ            27                  4  2022-11-25 18:45:37\n",
       "48738    SC    ARARANGUÁ            30                345  2022-11-25 18:45:37\n",
       "48739    SC    ARARANGUÁ            44                110  2022-11-25 18:45:37\n",
       "48740    SC    ARARANGUÁ            80                  7  2022-11-25 18:45:37"
      ]
     },
     "metadata": {},
     "output_type": "display_data"
    }
   ],
   "source": [
    "# Dados primeiro turno\n",
    "df_raw_first_round = pd.read_csv('data/raw-first-round.csv')\n",
    "print(df_raw_first_round.shape)\n",
    "print(df_raw_first_round.dtypes)\n",
    "display(df_raw_first_round[df_raw_first_round['nm_municipio'] == 'ARARANGUÁ'])"
   ]
  },
  {
   "cell_type": "code",
   "execution_count": 28,
   "metadata": {},
   "outputs": [
    {
     "name": "stdout",
     "output_type": "stream",
     "text": [
      "(11502, 5)\n",
      "sg_uf                object\n",
      "nm_municipio         object\n",
      "nr_candidato          int64\n",
      "qt_votos_nominais     int64\n",
      "dt_carga             object\n",
      "dtype: object\n"
     ]
    },
    {
     "data": {
      "text/html": [
       "<div>\n",
       "<style scoped>\n",
       "    .dataframe tbody tr th:only-of-type {\n",
       "        vertical-align: middle;\n",
       "    }\n",
       "\n",
       "    .dataframe tbody tr th {\n",
       "        vertical-align: top;\n",
       "    }\n",
       "\n",
       "    .dataframe thead th {\n",
       "        text-align: right;\n",
       "    }\n",
       "</style>\n",
       "<table border=\"1\" class=\"dataframe\">\n",
       "  <thead>\n",
       "    <tr style=\"text-align: right;\">\n",
       "      <th></th>\n",
       "      <th>sg_uf</th>\n",
       "      <th>nm_municipio</th>\n",
       "      <th>nr_candidato</th>\n",
       "      <th>qt_votos_nominais</th>\n",
       "      <th>dt_carga</th>\n",
       "    </tr>\n",
       "  </thead>\n",
       "  <tbody>\n",
       "    <tr>\n",
       "      <th>8860</th>\n",
       "      <td>SC</td>\n",
       "      <td>ARARANGUÁ</td>\n",
       "      <td>13</td>\n",
       "      <td>12522</td>\n",
       "      <td>2022-11-25 18:45:37</td>\n",
       "    </tr>\n",
       "    <tr>\n",
       "      <th>8861</th>\n",
       "      <td>SC</td>\n",
       "      <td>ARARANGUÁ</td>\n",
       "      <td>22</td>\n",
       "      <td>28631</td>\n",
       "      <td>2022-11-25 18:45:37</td>\n",
       "    </tr>\n",
       "  </tbody>\n",
       "</table>\n",
       "</div>"
      ],
      "text/plain": [
       "     sg_uf nm_municipio  nr_candidato  qt_votos_nominais             dt_carga\n",
       "8860    SC    ARARANGUÁ            13              12522  2022-11-25 18:45:37\n",
       "8861    SC    ARARANGUÁ            22              28631  2022-11-25 18:45:37"
      ]
     },
     "metadata": {},
     "output_type": "display_data"
    }
   ],
   "source": [
    "# Dados segundo turno\n",
    "df_raw_second_round = pd.read_csv('data/raw-second-round.csv')\n",
    "print(df_raw_second_round.shape)\n",
    "print(df_raw_second_round.dtypes)\n",
    "display(df_raw_second_round[df_raw_second_round['nm_municipio'] == 'ARARANGUÁ'])"
   ]
  },
  {
   "cell_type": "code",
   "execution_count": 29,
   "metadata": {},
   "outputs": [
    {
     "name": "stdout",
     "output_type": "stream",
     "text": [
      "(63261, 5)\n",
      "sg_uf                      object\n",
      "nm_municipio               object\n",
      "nr_candidato                int64\n",
      "qt_votos_primeiro_turno     int64\n",
      "qt_votos_segundo_turno      int64\n",
      "dtype: object\n"
     ]
    },
    {
     "data": {
      "text/html": [
       "<div>\n",
       "<style scoped>\n",
       "    .dataframe tbody tr th:only-of-type {\n",
       "        vertical-align: middle;\n",
       "    }\n",
       "\n",
       "    .dataframe tbody tr th {\n",
       "        vertical-align: top;\n",
       "    }\n",
       "\n",
       "    .dataframe thead th {\n",
       "        text-align: right;\n",
       "    }\n",
       "</style>\n",
       "<table border=\"1\" class=\"dataframe\">\n",
       "  <thead>\n",
       "    <tr style=\"text-align: right;\">\n",
       "      <th></th>\n",
       "      <th>sg_uf</th>\n",
       "      <th>nm_municipio</th>\n",
       "      <th>nr_candidato</th>\n",
       "      <th>qt_votos_primeiro_turno</th>\n",
       "      <th>qt_votos_segundo_turno</th>\n",
       "    </tr>\n",
       "  </thead>\n",
       "  <tbody>\n",
       "    <tr>\n",
       "      <th>48730</th>\n",
       "      <td>SC</td>\n",
       "      <td>ARARANGUÁ</td>\n",
       "      <td>12</td>\n",
       "      <td>1009</td>\n",
       "      <td>0</td>\n",
       "    </tr>\n",
       "    <tr>\n",
       "      <th>48731</th>\n",
       "      <td>SC</td>\n",
       "      <td>ARARANGUÁ</td>\n",
       "      <td>13</td>\n",
       "      <td>11852</td>\n",
       "      <td>12522</td>\n",
       "    </tr>\n",
       "    <tr>\n",
       "      <th>48732</th>\n",
       "      <td>SC</td>\n",
       "      <td>ARARANGUÁ</td>\n",
       "      <td>14</td>\n",
       "      <td>37</td>\n",
       "      <td>0</td>\n",
       "    </tr>\n",
       "    <tr>\n",
       "      <th>48733</th>\n",
       "      <td>SC</td>\n",
       "      <td>ARARANGUÁ</td>\n",
       "      <td>15</td>\n",
       "      <td>1516</td>\n",
       "      <td>0</td>\n",
       "    </tr>\n",
       "    <tr>\n",
       "      <th>48734</th>\n",
       "      <td>SC</td>\n",
       "      <td>ARARANGUÁ</td>\n",
       "      <td>16</td>\n",
       "      <td>11</td>\n",
       "      <td>0</td>\n",
       "    </tr>\n",
       "    <tr>\n",
       "      <th>48735</th>\n",
       "      <td>SC</td>\n",
       "      <td>ARARANGUÁ</td>\n",
       "      <td>21</td>\n",
       "      <td>15</td>\n",
       "      <td>0</td>\n",
       "    </tr>\n",
       "    <tr>\n",
       "      <th>48736</th>\n",
       "      <td>SC</td>\n",
       "      <td>ARARANGUÁ</td>\n",
       "      <td>22</td>\n",
       "      <td>25630</td>\n",
       "      <td>28631</td>\n",
       "    </tr>\n",
       "    <tr>\n",
       "      <th>48737</th>\n",
       "      <td>SC</td>\n",
       "      <td>ARARANGUÁ</td>\n",
       "      <td>27</td>\n",
       "      <td>4</td>\n",
       "      <td>0</td>\n",
       "    </tr>\n",
       "    <tr>\n",
       "      <th>48738</th>\n",
       "      <td>SC</td>\n",
       "      <td>ARARANGUÁ</td>\n",
       "      <td>30</td>\n",
       "      <td>345</td>\n",
       "      <td>0</td>\n",
       "    </tr>\n",
       "    <tr>\n",
       "      <th>48739</th>\n",
       "      <td>SC</td>\n",
       "      <td>ARARANGUÁ</td>\n",
       "      <td>44</td>\n",
       "      <td>110</td>\n",
       "      <td>0</td>\n",
       "    </tr>\n",
       "    <tr>\n",
       "      <th>48740</th>\n",
       "      <td>SC</td>\n",
       "      <td>ARARANGUÁ</td>\n",
       "      <td>80</td>\n",
       "      <td>7</td>\n",
       "      <td>0</td>\n",
       "    </tr>\n",
       "  </tbody>\n",
       "</table>\n",
       "</div>"
      ],
      "text/plain": [
       "      sg_uf nm_municipio  nr_candidato  qt_votos_primeiro_turno  \\\n",
       "48730    SC    ARARANGUÁ            12                     1009   \n",
       "48731    SC    ARARANGUÁ            13                    11852   \n",
       "48732    SC    ARARANGUÁ            14                       37   \n",
       "48733    SC    ARARANGUÁ            15                     1516   \n",
       "48734    SC    ARARANGUÁ            16                       11   \n",
       "48735    SC    ARARANGUÁ            21                       15   \n",
       "48736    SC    ARARANGUÁ            22                    25630   \n",
       "48737    SC    ARARANGUÁ            27                        4   \n",
       "48738    SC    ARARANGUÁ            30                      345   \n",
       "48739    SC    ARARANGUÁ            44                      110   \n",
       "48740    SC    ARARANGUÁ            80                        7   \n",
       "\n",
       "       qt_votos_segundo_turno  \n",
       "48730                       0  \n",
       "48731                   12522  \n",
       "48732                       0  \n",
       "48733                       0  \n",
       "48734                       0  \n",
       "48735                       0  \n",
       "48736                   28631  \n",
       "48737                       0  \n",
       "48738                       0  \n",
       "48739                       0  \n",
       "48740                       0  "
      ]
     },
     "metadata": {},
     "output_type": "display_data"
    }
   ],
   "source": [
    "# Junção em uma tabela apenas\n",
    "\n",
    "df_first_round = (df_raw_first_round\n",
    "\t.drop(['dt_carga'], axis=1)\n",
    "\t.rename(columns={'qt_votos_nominais': 'qt_votos_primeiro_turno'}))\n",
    "\n",
    "df_second_round = (df_raw_second_round\n",
    "\t.drop(['dt_carga'], axis=1)\n",
    "\t.rename(columns={'qt_votos_nominais': 'qt_votos_segundo_turno'}))\n",
    "\n",
    "df_votes = pd.merge(df_first_round, df_second_round, how='left')\n",
    "df_votes['qt_votos_segundo_turno'] = (df_votes['qt_votos_segundo_turno']\n",
    "\t.fillna(0)\n",
    "\t.astype(np.int64))\n",
    "\n",
    "print(df_votes.shape)\n",
    "print(df_votes.dtypes)\n",
    "display(df_votes[df_votes['nm_municipio'] == 'ARARANGUÁ'])\n",
    "\n"
   ]
  },
  {
   "cell_type": "code",
   "execution_count": 35,
   "metadata": {},
   "outputs": [],
   "source": [
    "# Salvando os dados\n",
    "\n",
    "# df_votes.to_csv('data/votes.csv')"
   ]
  },
  {
   "cell_type": "markdown",
   "metadata": {},
   "source": [
    "# Exploração dos dados"
   ]
  },
  {
   "cell_type": "code",
   "execution_count": 120,
   "metadata": {},
   "outputs": [
    {
     "data": {
      "text/plain": [
       "<AxesSubplot: title={'center': 'Votos por estado'}, xlabel='Estados', ylabel='Votos (em milhões)'>"
      ]
     },
     "execution_count": 120,
     "metadata": {},
     "output_type": "execute_result"
    },
    {
     "data": {
      "image/png": "[encoded data removed]",
      "text/plain": [
       "<Figure size 864x432 with 1 Axes>"
      ]
     },
     "metadata": {
      "needs_background": "light"
     },
     "output_type": "display_data"
    }
   ],
   "source": [
    "import matplotlib.pyplot as plt\n",
    "\n",
    "votes_by_state = ((df_votes\n",
    "\t.groupby(['sg_uf'])[['qt_votos_primeiro_turno']]\n",
    "\t.sum()\n",
    "\t.sort_values(by='qt_votos_primeiro_turno', ascending=False)) / 10**6)\n",
    "\n",
    "votes_by_state.plot(\n",
    "\tkind='bar',\n",
    "\ttitle='Votos por estado',\n",
    "\tylabel='Votos (em milhões)',\n",
    "\txlabel='Estados',\n",
    "\tlegend=None,\n",
    "\tfigsize=(12, 6)\n",
    ")\n"
   ]
  },
  {
   "cell_type": "code",
   "execution_count": 121,
   "metadata": {},
   "outputs": [
    {
     "data": {
      "text/plain": [
       "<AxesSubplot: title={'center': 'Votos fora do Brasil por cidade'}, xlabel='Estados', ylabel='Votos'>"
      ]
     },
     "execution_count": 121,
     "metadata": {},
     "output_type": "execute_result"
    },
    {
     "data": {
      "image/png": "[encoded data removed]",
      "text/plain": [
       "<Figure size 864x432 with 1 Axes>"
      ]
     },
     "metadata": {
      "needs_background": "light"
     },
     "output_type": "display_data"
    }
   ],
   "source": [
    "votes_outsize_brasil = ((df_votes[df_votes['sg_uf'] == 'ZZ']\n",
    "\t.groupby(['nm_municipio'])[['qt_votos_primeiro_turno']]\n",
    "\t.sum()\n",
    "\t.sort_values(by='qt_votos_primeiro_turno', ascending=False)\n",
    "\t.head(25)))\n",
    "\n",
    "votes_outsize_brasil.plot(\n",
    "\tkind='bar',\n",
    "\ttitle='Votos fora do Brasil por cidade',\n",
    "\tylabel='Votos',\n",
    "\txlabel='Estados',\n",
    "\tlegend=None,\n",
    "\tfigsize=(12, 6)\n",
    ")\n"
   ]
  }
 ],
 "metadata": {
  "kernelspec": {
   "display_name": "Python 3.10.5 64-bit ('3.10.5')",
   "language": "python",
   "name": "python3"
  },
  "language_info": {
   "codemirror_mode": {
    "name": "ipython",
    "version": 3
   },
   "file_extension": ".py",
   "mimetype": "text/x-python",
   "name": "python",
   "nbconvert_exporter": "python",
   "pygments_lexer": "ipython3",
   "version": "3.10.5"
  },
  "orig_nbformat": 4,
  "vscode": {
   "interpreter": {
    "hash": "a171596892920571d73bee0b16c0fc7a42e8e6c498e5f9fd25d129205a1823e7"
   }
  }
 },
 "nbformat": 4,
 "nbformat_minor": 2
}
